{
  "nbformat": 4,
  "nbformat_minor": 0,
  "metadata": {
    "colab": {
      "provenance": []
    },
    "kernelspec": {
      "name": "python3",
      "display_name": "Python 3"
    },
    "language_info": {
      "name": "python"
    }
  },
  "cells": [
    {
      "cell_type": "markdown",
      "source": [
        "### Ejercicio 1"
      ],
      "metadata": {
        "id": "-0JNoUgzgpxV"
      }
    },
    {
      "cell_type": "markdown",
      "source": [
        "1. Un palíndromo, también llamado palíndromo, palíndroma o palindroma, es una palabra, o frase que se lee igual en un sentido que en otro. Ejemplo ANA se puede leer al derecho y al\n",
        "revés y significa lo mismo.\n",
        "\n",
        "● Punto extra - No puede usar ciclos\n",
        "\n",
        "● Punto extra - No más de 5 líneas de código\n"
      ],
      "metadata": {
        "id": "_E-8x5argsp1"
      }
    },
    {
      "cell_type": "code",
      "source": [
        "def is_palindrome(s):\n",
        "    s = ''.join(filter(str.isalnum, s)).lower()  # Filter only alphanumeric characters and convert to lowercase\n",
        "    return s == s[::-1]\n",
        "\n",
        "is_palindrome(\"Arenera\")"
      ],
      "metadata": {
        "colab": {
          "base_uri": "https://localhost:8080/"
        },
        "id": "VMu8Qv7mgcxX",
        "outputId": "5516da38-7353-49f3-f1ac-3c4f7f79e8d2"
      },
      "execution_count": 12,
      "outputs": [
        {
          "output_type": "execute_result",
          "data": {
            "text/plain": [
              "True"
            ]
          },
          "metadata": {},
          "execution_count": 12
        }
      ]
    }
  ]
}