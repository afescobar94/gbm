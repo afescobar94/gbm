{
  "nbformat": 4,
  "nbformat_minor": 0,
  "metadata": {
    "colab": {
      "provenance": []
    },
    "kernelspec": {
      "name": "python3",
      "display_name": "Python 3"
    },
    "language_info": {
      "name": "python"
    }
  },
  "cells": [
    {
      "cell_type": "markdown",
      "source": [
        "### Ejercicio 2"
      ],
      "metadata": {
        "id": "DzZidLLo7qd4"
      }
    },
    {
      "cell_type": "code",
      "source": [
        "import sys\n",
        "import io"
      ],
      "metadata": {
        "id": "e-tkAOqElFuM"
      },
      "execution_count": 1,
      "outputs": []
    },
    {
      "cell_type": "code",
      "execution_count": 11,
      "metadata": {
        "colab": {
          "base_uri": "https://localhost:8080/"
        },
        "id": "BAZT7A275Wyx",
        "outputId": "e1a2ef12-0381-4a56-cf80-86d15799852c"
      },
      "outputs": [
        {
          "output_type": "stream",
          "name": "stdout",
          "text": [
            "3\n",
            "3\n",
            "1 2 3\n",
            "3\n",
            "3\n",
            "2 4\n",
            "4\n"
          ]
        }
      ],
      "source": [
        "def process_race_results():\n",
        "    input = sys.stdin.read\n",
        "    data = input().strip().split(\"\\n\")\n",
        "\n",
        "    index = 0\n",
        "    while True:\n",
        "        # Leer número de Grand Prix y Pilotos\n",
        "        G, P = map(int, data[index].strip().split())\n",
        "        if G == 0 and P == 0:\n",
        "            break\n",
        "        index += 1\n",
        "\n",
        "        # Leer resultados de las carreras\n",
        "        race_results = []\n",
        "        for _ in range(G):\n",
        "            race_results.append(list(map(int, data[index].strip().split())))\n",
        "            index += 1\n",
        "\n",
        "        # Leer número de sistemas de puntuación\n",
        "        S = int(data[index].strip())\n",
        "        index += 1\n",
        "\n",
        "        # Leer sistemas de puntuación\n",
        "        scoring_systems = []\n",
        "        for _ in range(S):\n",
        "            scoring_info = list(map(int, data[index].strip().split()))\n",
        "            K = scoring_info[0]\n",
        "            points = scoring_info[1:]\n",
        "            scoring_systems.append(points)\n",
        "            index += 1\n",
        "\n",
        "        for points in scoring_systems:\n",
        "            scores = [0] * P\n",
        "\n",
        "            for result in race_results:\n",
        "                for i, position in enumerate(result):\n",
        "                    if position <= len(points):\n",
        "                        scores[i] += points[position - 1]\n",
        "\n",
        "            max_score = max(scores)\n",
        "            champions = [str(i + 1) for i, score in enumerate(scores) if score == max_score]\n",
        "\n",
        "            print(\" \".join(champions))\n",
        "\n",
        "# Entrada de muestra para pruebas\n",
        "sample_input = \"\"\"1 3\n",
        "3 2 1\n",
        "3\n",
        "3 5 3 2\n",
        "3 5 3 1\n",
        "3 1 1 1\n",
        "3 10\n",
        "1 2 3 4 5 6 7 8 9 10\n",
        "10 1 2 3 4 5 6 7 8 9\n",
        "9 10 1 2 3 4 5 6 7 8\n",
        "2\n",
        "5 5 4 3 2 1\n",
        "3 10 5 1\n",
        "2 4\n",
        "1 3 4 2\n",
        "4 1 3 2\n",
        "2\n",
        "3 3 2 1\n",
        "3 5 4 2\n",
        "0 0\"\"\"\n",
        "\n",
        "# Respaldar la entrada estándar\n",
        "backup = sys.stdin\n",
        "\n",
        "# Establecer la entrada de muestra como la entrada estándar\n",
        "sys.stdin = io.StringIO(sample_input)\n",
        "\n",
        "# Ejecutar la función\n",
        "process_race_results()\n",
        "\n",
        "# Restaurar la entrada estándar\n",
        "sys.stdin = backup\n"
      ]
    }
  ]
}