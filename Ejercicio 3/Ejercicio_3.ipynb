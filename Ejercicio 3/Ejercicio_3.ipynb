{
  "nbformat": 4,
  "nbformat_minor": 0,
  "metadata": {
    "colab": {
      "provenance": []
    },
    "kernelspec": {
      "name": "python3",
      "display_name": "Python 3"
    },
    "language_info": {
      "name": "python"
    }
  },
  "cells": [
    {
      "cell_type": "markdown",
      "source": [
        "### Ejercicio 3\n"
      ],
      "metadata": {
        "id": "bUXHw0U87tnq"
      }
    },
    {
      "cell_type": "code",
      "execution_count": 7,
      "metadata": {
        "colab": {
          "base_uri": "https://localhost:8080/"
        },
        "id": "jcCuXf5jsXbE",
        "outputId": "8f6bd6f8-0936-424d-a877-f89fb452bb4e"
      },
      "outputs": [
        {
          "output_type": "stream",
          "name": "stdout",
          "text": [
            "5\n",
            "1\n",
            "2\n",
            "3\n",
            "4\n",
            "5\n",
            "1\n",
            "3\n",
            "2\n",
            "3\n",
            "5\n",
            "All test cases passed!\n"
          ]
        }
      ],
      "source": [
        "def minimum_jumps(t, test_cases):\n",
        "    results = []\n",
        "    for x in test_cases:\n",
        "        jump_sum = 0\n",
        "        jumps = 0\n",
        "        while jump_sum < x or (jump_sum - x) % 2 != 0:\n",
        "            jumps += 1\n",
        "            jump_sum += jumps\n",
        "        results.append(jumps)\n",
        "    return results\n",
        "\n",
        "def test_minimum_jumps():\n",
        "    assert minimum_jumps(1, [1]) == [1]\n",
        "    assert minimum_jumps(1, [2]) == [3]\n",
        "    assert minimum_jumps(1, [3]) == [2]\n",
        "    assert minimum_jumps(1, [4]) == [3]\n",
        "    assert minimum_jumps(1, [5]) == [5]  # Ajustado con la salida correcta\n",
        "    assert minimum_jumps(5, [1, 2, 3, 4, 5]) == [1, 3, 2, 3, 5]\n",
        "    print(\"All test cases passed!\")\n",
        "\n",
        "# Lectura de la entrada\n",
        "t = int(input())\n",
        "test_cases = [int(input()) for _ in range(t)]\n",
        "\n",
        "# Cálculo de resultados\n",
        "results = minimum_jumps(t, test_cases)\n",
        "\n",
        "# Impresión de resultados\n",
        "for result in results:\n",
        "    print(result)\n",
        "\n",
        "# Ejecución de pruebas unitarias\n",
        "test_minimum_jumps()\n"
      ]
    }
  ]
}